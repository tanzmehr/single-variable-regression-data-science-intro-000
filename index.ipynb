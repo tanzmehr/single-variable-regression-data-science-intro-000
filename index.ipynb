{
 "cells": [
  {
   "cell_type": "markdown",
   "metadata": {},
   "source": [
    "# Intro to regression lines"
   ]
  },
  {
   "cell_type": "markdown",
   "metadata": {},
   "source": [
    "### Learning Objectives"
   ]
  },
  {
   "cell_type": "markdown",
   "metadata": {},
   "source": [
    "* Understand how regression lines can help us make predictions about data\n",
    "* Understand how the components of slope and y-intercept determine the output of a regression line \n",
    "* Understand how to represent a line as a function"
   ]
  },
  {
   "cell_type": "markdown",
   "metadata": {},
   "source": [
    "### A not so simple problem"
   ]
  },
  {
   "cell_type": "markdown",
   "metadata": {},
   "source": [
    "Now we know a bit about plotting data and we have written some functions, like `trace_values`, `layout`, and `plot`, to help us do so.  You can [view them here](https://github.com/learn-co-curriculum/single-variable-regression/blob/master/lib/graph.py)."
   ]
  },
  {
   "cell_type": "markdown",
   "metadata": {},
   "source": [
    "### The benefit of a buck"
   ]
  },
  {
   "cell_type": "markdown",
   "metadata": {},
   "source": [
    "Imagine we are hired as a consultant for a movie executive.  The movie executive receives a budget proposal, and wants to know how much money the movie might make.  We can help him by building a model of the relationship between the money spent on a movie and money made. "
   ]
  },
  {
   "cell_type": "markdown",
   "metadata": {},
   "source": [
    "### Representing linear regression graphically"
   ]
  },
  {
   "cell_type": "markdown",
   "metadata": {},
   "source": [
    "To predict movie revenue based on a budget, let's draw a single straight line that represents the relationship between how much a movie costs and how much it makes.  \n",
    "\n",
    "> Eventually, we will want to **train** this model to match up against an actual data, but for now let's just draw a line to see how it can make estimates."
   ]
  },
  {
   "cell_type": "code",
   "execution_count": null,
   "metadata": {},
   "outputs": [],
   "source": [
    "from lib.graph import trace_values, plot, layout\n",
    "\n",
    "regression_trace = trace_values([0, 150], [0, 450], mode = 'lines', name = 'estimated revenue')\n",
    "movie_layout = layout(options = {'title': 'Movie Spending and Revenue (in millions)'})\n",
    "plot([regression_trace], movie_layout)"
   ]
  },
  {
   "cell_type": "markdown",
   "metadata": {},
   "source": [
    "By using a line, we can see how much money is earned for any point on this line.  All we need to do is look at a given $x$ value, and find the corresponding $y$ value at that point on the line. \n",
    "\n",
    "* Spend 60 million, and expect to bring in about 180 million.  \n",
    "* Spend 20 million, and expect to bring in 60 million.  \n",
    "\n",
    "This approach of modeling a linear relationship (that is a drawing a straight line) between an input and an output is called **linear regression**.  We call the input our **explanatory variable**, and the output the **dependent variable**.  So here, we are saying budget *explains* our dependent variable, revenue."
   ]
  },
  {
   "cell_type": "markdown",
   "metadata": {},
   "source": [
    "### Representing linear regression with functions"
   ]
  },
  {
   "cell_type": "markdown",
   "metadata": {},
   "source": [
    "Instead of only representing this line visually, we also would like to represent this line with a function. That way, instead of having to **see** how an $x$ value points to a $y$ value along our line, we simply could punch this input into our function to calculate the proper output.  \n",
    "\n",
    "#### A wrong guess\n",
    "Let's take an initial (wrong) guess at turning this line into a function.  \n",
    "\n",
    "**First**, we represent the line as a mathematical formula.\n",
    "\n",
    "$y = x$\n",
    "\n",
    "**Then**, we turn this formula into a function:"
   ]
  },
  {
   "cell_type": "code",
   "execution_count": null,
   "metadata": {},
   "outputs": [],
   "source": [
    "def y(x):\n",
    "    return x\n",
    "\n",
    "y(0)"
   ]
  },
  {
   "cell_type": "code",
   "execution_count": null,
   "metadata": {},
   "outputs": [],
   "source": [
    "y(10000000)"
   ]
  },
  {
   "cell_type": "markdown",
   "metadata": {},
   "source": [
    "This is pretty nice.  We just wrote a function that automatically calculates the expected revenue given a certain movie budget.  This function says that for every value of $x$ that we input to the function, we get back an equal value $y$.  So according to the function, if the movie has a budget of $30$ million, it will earn $30$ million. \n",
    "\n",
    "#### A better guess: Matching lines to functions\n",
    "Take a look at the line that we drew.  Our line says something different.  The line says that spending 30 million brings predicted earnings of 90 million.  We need to change our function so that it matches our line.  In fact, we need a consistent way to turn lines into functions, and vice versa.  Let's get to it.\n",
    "\n",
    "**We start** by turning our line into a chart below.  It shows how our line relates x-values and y-values, or our budgets and revenues."
   ]
  },
  {
   "cell_type": "markdown",
   "metadata": {
    "collapsed": true
   },
   "source": [
    "| X (budget)       | Y (revenue)           | \n",
    "| ------------- |:-------------:| \n",
    "| 0      |0 | \n",
    "| 30 million      |90 million | \n",
    "| 60 million      |180 million | \n",
    "\n",
    "**Next**, we need an equation that allows us to match this data.\n",
    "* input 0 and get back 0\n",
    "* input 30 million and get back 90 million\n",
    "* and input 60 million and get back 180 million?  \n",
    "\n",
    "What equation is that?  Well it's $y = 3x$.  Take a look to see for yourself.\n",
    "\n",
    "* 0 * 3 = 0\n",
    "* 30 million * 3 = 90 million\n",
    "* 60 million * 3 = 180 million \n",
    "\n",
    "Let's see it in the code.  This is what it looks like:"
   ]
  },
  {
   "cell_type": "code",
   "execution_count": null,
   "metadata": {},
   "outputs": [],
   "source": [
    "def y(x):\n",
    "    return 3*x"
   ]
  },
  {
   "cell_type": "code",
   "execution_count": null,
   "metadata": {},
   "outputs": [],
   "source": [
    "y(30000000)"
   ]
  },
  {
   "cell_type": "code",
   "execution_count": null,
   "metadata": {},
   "outputs": [],
   "source": [
    "y(0)"
   ]
  },
  {
   "cell_type": "markdown",
   "metadata": {},
   "source": [
    "Progress! We multiplied each $x$ value by 3 so that our function's outputs correspond to the $y$ values appearing along our graphed line."
   ]
  },
  {
   "cell_type": "markdown",
   "metadata": {},
   "source": [
    "### The Slope Variable "
   ]
  },
  {
   "cell_type": "markdown",
   "metadata": {},
   "source": [
    "By multiplying $x$ by 3, we just altered the **slope variable**.  The slope variable changes the inclination of the line in our graph.  Slope generally is represented by $m$ like so:\n",
    "\n",
    "$y = mx$ \n",
    "\n",
    "Let's make sure we understand what all of our variables stand for.  Here they are: \n",
    "\n",
    "* $y$: the output value returned by the function, also called the **response variable**, as it responds to values of $x$\n",
    "* $x$: the input variable, also called the **explanatory variable**, as it explains the value of $y$\n",
    "* $m$: the **slope variable**, determines how vertical or horizontal the line will appear"
   ]
  },
  {
   "cell_type": "markdown",
   "metadata": {},
   "source": [
    "Let's adapt these terms to our movie example.  The $y$ value is the revenue earned from the movie, which we say is in *response* to our budget.  The *explanatory variable* of our budget, $x$, represents our budget, and the $m$ corresponds to our value of 3, which describes how much money is earned for each dollar spent.  Therefore, with an $m$ of 3, our line says to expect to earn 3 dollars for each dollar spent making the movie.  Likewise, an $m$ of 2 suggests we earn 2 dollars for every dollar we spend."
   ]
  },
  {
   "cell_type": "markdown",
   "metadata": {},
   "source": [
    "> A higher value of $m$ means a steeper line.  It also means that we expect more money earned per dollar spent on our movies.  Imagine the line pivoting to a steeper tilt as we guess a higher amount of money earned per dollar spent.  "
   ]
  },
  {
   "cell_type": "markdown",
   "metadata": {},
   "source": [
    "### The y-intercept"
   ]
  },
  {
   "cell_type": "markdown",
   "metadata": {},
   "source": [
    "There is one more thing that we need to learn in order to describe every straight line in a two-dimensional world.  That is the **y-intercept**."
   ]
  },
  {
   "cell_type": "markdown",
   "metadata": {},
   "source": [
    "> * The **y-intercept** is the $y$ value of the line where it intersects the y-axis.  \n",
    "> * Or, put another way, the y-intercept is the value of $y$ when $x$ equals zero.  \n",
    "\n",
    "Let's add a trace with a higher y-intercept than our initial line to the movie plot.  "
   ]
  },
  {
   "cell_type": "code",
   "execution_count": null,
   "metadata": {},
   "outputs": [],
   "source": [
    "regression_trace_increased = trace_values([0, 150], [50, 500], mode = 'lines', name = 'increased est. revenue')\n",
    "plot([regression_trace_increased, regression_trace], movie_layout)"
   ]
  },
  {
   "cell_type": "markdown",
   "metadata": {},
   "source": [
    "What is the y-intercept of the original estimated revenue line?  Well, it's the value of $y$ when that line crosses the y-axis.  That value is zero.  Our second line is parallel to the first but is shifted higher so that the y-intercept increases up to 50 million.  Here, for every value of $x$, the corresponding value of $y$ is higher by 50 million.  \n",
    "\n",
    "* Our formula is no longer $y = 3x$.  \n",
    "* It is $y = 3 x + 50,000,000$. \n",
    "\n",
    "In addition to determining the y-intercept from a line on a graph, we can also see the y-intercept by looking at a chart of points.  \n",
    "\n",
    "> In the chart below, we know that the y-intercept is 50 million because its corresponding $x$ value is zero. "
   ]
  },
  {
   "cell_type": "markdown",
   "metadata": {
    "collapsed": true
   },
   "source": [
    "| X        | Y           | \n",
    "| ------------- |:-------------:| \n",
    "| 0      |50 million | \n",
    "| 40 million      |170 million | \n",
    "| 60 million      |230 million | "
   ]
  },
  {
   "cell_type": "markdown",
   "metadata": {},
   "source": [
    "The y-intercept of a line usually is represented by *b*.  Now we have all of the information needed to describe any straight line using the formula below:  \n",
    "\n",
    "$$y = mx + b $$\n",
    "\n",
    "Once more, in this formula: \n",
    "* $m$ is our slope of the line, and\n",
    "* $b$ is the value of $y$ when $x$ equals zero.  \n",
    "\n",
    "So thinking about it visually, increasing $m$ makes the line steeper, and increasing $b$ pushes the line higher.   \n",
    "\n",
    "In the context of our movies, we said that the the line with values of $m$ = 3 and $b$ = 50 million describes our line, giving us:\n",
    "\n",
    "$y = 3x + 50,000,000 $."
   ]
  },
  {
   "cell_type": "markdown",
   "metadata": {},
   "source": [
    "Let's translate this into a function.  For any input of $x$ our function returns the value of $y$ along that line.  "
   ]
  },
  {
   "cell_type": "code",
   "execution_count": null,
   "metadata": {},
   "outputs": [],
   "source": [
    "def y(x):\n",
    "    return 3*x + 50000000"
   ]
  },
  {
   "cell_type": "code",
   "execution_count": null,
   "metadata": {},
   "outputs": [],
   "source": [
    "y(30000000)"
   ]
  },
  {
   "cell_type": "code",
   "execution_count": 9,
   "metadata": {},
   "outputs": [
    {
     "name": "stdout",
     "output_type": "stream",
     "text": [
      "1.7711562533227299\n"
     ]
    },
    {
     "data": {
      "image/png": "[encoded data removed]",
      "text/plain": [
       "<Figure size 432x288 with 1 Axes>"
      ]
     },
     "metadata": {
      "needs_background": "light"
     },
     "output_type": "display_data"
    }
   ],
   "source": [
    "import statistics\n",
    "list = [0.86, 1.65, 1.61, 0.68, 1.08, 0.75, 2.81, 4.41, 0.29, 0.50, 6.71, 0.22, 0.24, 4.26, 2.66, 0.18, 0.33, 0.14, 2.00, 0.63]\n",
    "print(statistics.stdev(list))\n",
    "\n",
    "import matplotlib.pyplot as plt\n",
    "\n",
    "plt.hist(list, bins = 5)\n",
    "plt.show()"
   ]
  },
  {
   "cell_type": "markdown",
   "metadata": {},
   "source": [
    "### Summary"
   ]
  },
  {
   "cell_type": "markdown",
   "metadata": {
    "collapsed": true
   },
   "source": [
    "In this section, we saw how to estimate the relationship between an input variable and an output value.  We did so by drawing a straight line representing the relationship between a movie's budget and it's revenue.  We saw the output for a given input simply by looking at the y-value of the line at that input point of $x$.  \n",
    "\n",
    "We then learned how to represent a line as a mathematical formula, and ultimately a function.  We describe lines through the formula $y = mx + b $, with $m$ representing the slope of the line, and $b$ representing the value of $y$ when $x$ equals zero.  The $b$ variable shifts the line up or down while the $m$ variable tilts the line forwards or backwards.  Translating this formula into a function, we can write a function that returns an expected value of $y$ for an input value of $x$."
   ]
  }
 ],
 "metadata": {
  "kernelspec": {
   "display_name": "Python 3",
   "language": "python",
   "name": "python3"
  },
  "language_info": {
   "codemirror_mode": {
    "name": "ipython",
    "version": 3
   },
   "file_extension": ".py",
   "mimetype": "text/x-python",
   "name": "python",
   "nbconvert_exporter": "python",
   "pygments_lexer": "ipython3",
   "version": "3.6.9"
  }
 },
 "nbformat": 4,
 "nbformat_minor": 2
}
